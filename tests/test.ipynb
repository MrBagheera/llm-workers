{
 "cells": [
  {
   "cell_type": "code",
   "id": "initial_id",
   "metadata": {
    "collapsed": true,
    "ExecuteTime": {
     "end_time": "2025-01-29T09:43:04.403151Z",
     "start_time": "2025-01-29T09:43:04.142542Z"
    }
   },
   "source": [
    "from llm_workers.tools.fetch_tools import fetch_page_text\n",
    "\n",
    "fetch_page_text.args_schema.model_json_schema()"
   ],
   "outputs": [
    {
     "data": {
      "text/plain": [
       "{'description': 'Fetches the text from a page or page element.',\n",
       " 'properties': {'url': {'description': 'The URL of the page.',\n",
       "   'title': 'Url',\n",
       "   'type': 'string'},\n",
       "  'xpath': {'default': None,\n",
       "   'description': 'The xpath to the element containing the text; if not specified the entire page will be returned.',\n",
       "   'title': 'Xpath',\n",
       "   'type': 'string'},\n",
       "  'headers': {'additionalProperties': {'type': 'string'},\n",
       "   'default': None,\n",
       "   'description': 'Extra headers to use for the request.',\n",
       "   'title': 'Headers',\n",
       "   'type': 'object'},\n",
       "  'on_no_content': {'default': 'return_empty',\n",
       "   'description': 'What to do if no matching content is found.',\n",
       "   'enum': ['raise_exception', 'return_error', 'return_empty'],\n",
       "   'title': 'On No Content',\n",
       "   'type': 'string'},\n",
       "  'on_error': {'default': 'raise_exception',\n",
       "   'description': 'What to do if an error occurs.',\n",
       "   'enum': ['raise_exception', 'return_error', 'return_empty'],\n",
       "   'title': 'On Error',\n",
       "   'type': 'string'}},\n",
       " 'required': ['url'],\n",
       " 'title': 'fetch_page_text',\n",
       " 'type': 'object'}"
      ]
     },
     "execution_count": 1,
     "metadata": {},
     "output_type": "execute_result"
    }
   ],
   "execution_count": 1
  },
  {
   "metadata": {
    "ExecuteTime": {
     "end_time": "2025-01-29T10:00:18.201423Z",
     "start_time": "2025-01-29T10:00:17.865071Z"
    }
   },
   "cell_type": "code",
   "source": [
    "from llm_workers.tools.fetch_tools import fetch_page_links\n",
    "\n",
    "fetch_page_links.args_schema.model_json_schema()"
   ],
   "id": "7e269307bbbc62c0",
   "outputs": [
    {
     "data": {
      "text/plain": [
       "{'description': 'Fetches the links from a page or page element.',\n",
       " 'properties': {'url': {'description': 'The URL of the page.',\n",
       "   'title': 'Url',\n",
       "   'type': 'string'},\n",
       "  'xpath': {'default': None,\n",
       "   'description': 'The xpath to the element containing the links; if not specified the entire page will be searched.',\n",
       "   'title': 'Xpath',\n",
       "   'type': 'string'},\n",
       "  'headers': {'additionalProperties': {'type': 'string'},\n",
       "   'default': None,\n",
       "   'description': 'Extra headers to use for the request.',\n",
       "   'title': 'Headers',\n",
       "   'type': 'object'},\n",
       "  'on_no_content': {'default': 'return_empty',\n",
       "   'description': 'What to do if no matching content is found.',\n",
       "   'enum': ['raise_exception', 'return_error', 'return_empty'],\n",
       "   'title': 'On No Content',\n",
       "   'type': 'string'},\n",
       "  'on_error': {'default': 'raise_exception',\n",
       "   'description': 'What to do if an error occurs.',\n",
       "   'enum': ['raise_exception', 'return_error', 'return_empty'],\n",
       "   'title': 'On Error',\n",
       "   'type': 'string'}},\n",
       " 'required': ['url'],\n",
       " 'title': 'fetch_page_links',\n",
       " 'type': 'object'}"
      ]
     },
     "execution_count": 1,
     "metadata": {},
     "output_type": "execute_result"
    }
   ],
   "execution_count": 1
  },
  {
   "metadata": {
    "ExecuteTime": {
     "end_time": "2025-01-29T10:00:20.316977Z",
     "start_time": "2025-01-29T10:00:19.955993Z"
    }
   },
   "cell_type": "code",
   "source": "fetch_page_links.invoke({\"url\": \"https://www.coastguidetr.com/tr/koy/101311/gemiler-adasi\", \"xpath\": \"//*[@id=\\\"sticker\\\"]\"})",
   "id": "f96ecd5725535f41",
   "outputs": [
    {
     "data": {
      "text/plain": [
       "[LinkTextPair(link='https://www.coastguidetr.com/tr/bolge/5/marmara', text='Marmara'),\n",
       " LinkTextPair(link='https://www.coastguidetr.com/tr/bolge/6/canakkale', text='Çanakkale'),\n",
       " LinkTextPair(link='https://www.coastguidetr.com/tr/bolge/7/balikesir', text='Balıkesir'),\n",
       " LinkTextPair(link='https://www.coastguidetr.com/tr/bolge/8/izmir', text='İzmir'),\n",
       " LinkTextPair(link='https://www.coastguidetr.com/tr/bolge/9/aydin', text='Aydın'),\n",
       " LinkTextPair(link='https://www.coastguidetr.com/tr/bolge/10/mugla', text='Muğla'),\n",
       " LinkTextPair(link='https://www.coastguidetr.com/tr/bolge/11/antalya', text='Antalya'),\n",
       " LinkTextPair(link='https://www.coastguidetr.com/tr/korfez/1001/gulluk-korfezi', text='Güllük Körfezi'),\n",
       " LinkTextPair(link='https://www.coastguidetr.com/tr/korfez/1002/bodrum-yarimadasi-bati-yakasi', text='Bodrum Yarımadası Batı Yakası'),\n",
       " LinkTextPair(link='https://www.coastguidetr.com/tr/korfez/1003/bodrum-yarimadasi-guney-yakasi', text='Bodrum Yarımadası Güney Yakası'),\n",
       " LinkTextPair(link='https://www.coastguidetr.com/tr/korfez/1004/gokova', text='Gökova'),\n",
       " LinkTextPair(link='https://www.coastguidetr.com/tr/korfez/1005/datca-yarimadasi-kuzey-yakasi', text='Datça Yarımadası Kuzey Yakası'),\n",
       " LinkTextPair(link='https://www.coastguidetr.com/tr/korfez/1006/datca-yarimadasi-guney-yakasi', text='Datça Yarımadası Güney Yakası'),\n",
       " LinkTextPair(link='https://www.coastguidetr.com/tr/korfez/1007/hisaronu-korfezi', text='Hisarönü Körfezi'),\n",
       " LinkTextPair(link='https://www.coastguidetr.com/tr/korfez/1008/yesilova-korfezi', text='Yeşilova Körfezi'),\n",
       " LinkTextPair(link='https://www.coastguidetr.com/tr/korfez/1009/yesilova-korfezi-kadirga-burnu-arasi', text='Yeşilova Körfezi - Kadırga Burnu Arası'),\n",
       " LinkTextPair(link='https://www.coastguidetr.com/tr/korfez/1010/marmaris-bolgesi', text='Marmaris Bölgesi'),\n",
       " LinkTextPair(link='https://www.coastguidetr.com/tr/korfez/1011/marmaris-kurdoglu-burnu-arasi', text='Marmaris - Kurdoğlu Burnu Arası'),\n",
       " LinkTextPair(link='https://www.coastguidetr.com/tr/korfez/1012/gocek-korfezi', text='Göcek Körfezi'),\n",
       " LinkTextPair(link='https://www.coastguidetr.com/tr/korfez/1013/fethiye-korfezi-olu-deniz', text='Fethiye Körfezi - Ölü Deniz'),\n",
       " LinkTextPair(link='https://www.coastguidetr.com/tr/koy/101302/ciglik-koyu', text='Çığlik Koyu'),\n",
       " LinkTextPair(link='https://www.coastguidetr.com/tr/koy/101303/kucuk-kargi-koyu', text='Küçük Kargı Koyu'),\n",
       " LinkTextPair(link='https://www.coastguidetr.com/tr/koy/101306/fethiye', text='Fethiye'),\n",
       " LinkTextPair(link='https://www.coastguidetr.com/tr/koy/101307/turunc-pinari-koyu', text='Turunç Pınarı Koyu'),\n",
       " LinkTextPair(link='https://www.coastguidetr.com/tr/koy/101308/karacaoren-koyu', text='Karacaören Koyu'),\n",
       " LinkTextPair(link='https://www.coastguidetr.com/tr/koy/101309/darbogaz-koyu', text='Darboğaz Koyu'),\n",
       " LinkTextPair(link='https://www.coastguidetr.com/tr/koy/101310/gemiler-koyu', text='Gemiler Koyu'),\n",
       " LinkTextPair(link='https://www.coastguidetr.com/tr/koy/101312/bektas-kalevezi-koyu', text='Bektaş(Kalevezi) Koyu'),\n",
       " LinkTextPair(link='https://www.coastguidetr.com/tr/koy/101313/soguksu-limani', text='Soğuksu Limanı'),\n",
       " LinkTextPair(link='https://www.coastguidetr.com/tr/koy/101314/mersin-limani', text='Mersin Limanı'),\n",
       " LinkTextPair(link='https://www.coastguidetr.com/tr/koy/101315/olu-deniz', text='Ölü Deniz'),\n",
       " LinkTextPair(link='https://www.coastguidetr.com/tr/marina/1013060113/ece-saray-marina', text='Ece Saray Marina')]"
      ]
     },
     "execution_count": 2,
     "metadata": {},
     "output_type": "execute_result"
    }
   ],
   "execution_count": 2
  },
  {
   "metadata": {
    "ExecuteTime": {
     "end_time": "2025-01-29T09:49:27.334222Z",
     "start_time": "2025-01-29T09:49:26.983037Z"
    }
   },
   "cell_type": "code",
   "source": "fetch_page_links.invoke({\"url\": \"https://www.coastguidetr.com/tr/koy/101311/gemiler-adasi\"})\n",
   "id": "1c2e83a029360c46",
   "outputs": [
    {
     "data": {
      "text/plain": [
       "[LinkTextPair(link='https://www.coastguidetr.com/tr/bolge/5/marmara', text='Marmara'),\n",
       " LinkTextPair(link='https://www.coastguidetr.com/tr/bolge/6/canakkale', text='Çanakkale'),\n",
       " LinkTextPair(link='https://www.coastguidetr.com/tr/bolge/7/balikesir', text='Balıkesir'),\n",
       " LinkTextPair(link='https://www.coastguidetr.com/tr/bolge/8/izmir', text='İzmir'),\n",
       " LinkTextPair(link='https://www.coastguidetr.com/tr/bolge/9/aydin', text='Aydın'),\n",
       " LinkTextPair(link='https://www.coastguidetr.com/tr/bolge/10/mugla', text='Muğla'),\n",
       " LinkTextPair(link='https://www.coastguidetr.com/tr/bolge/11/antalya', text='Antalya'),\n",
       " LinkTextPair(link='https://www.coastguidetr.com/tr/korfez/1001/gulluk-korfezi', text='Güllük Körfezi'),\n",
       " LinkTextPair(link='https://www.coastguidetr.com/tr/korfez/1002/bodrum-yarimadasi-bati-yakasi', text='Bodrum Yarımadası Batı Yakası'),\n",
       " LinkTextPair(link='https://www.coastguidetr.com/tr/korfez/1003/bodrum-yarimadasi-guney-yakasi', text='Bodrum Yarımadası Güney Yakası'),\n",
       " LinkTextPair(link='https://www.coastguidetr.com/tr/korfez/1004/gokova', text='Gökova'),\n",
       " LinkTextPair(link='https://www.coastguidetr.com/tr/korfez/1005/datca-yarimadasi-kuzey-yakasi', text='Datça Yarımadası Kuzey Yakası'),\n",
       " LinkTextPair(link='https://www.coastguidetr.com/tr/korfez/1006/datca-yarimadasi-guney-yakasi', text='Datça Yarımadası Güney Yakası'),\n",
       " LinkTextPair(link='https://www.coastguidetr.com/tr/korfez/1007/hisaronu-korfezi', text='Hisarönü Körfezi'),\n",
       " LinkTextPair(link='https://www.coastguidetr.com/tr/korfez/1008/yesilova-korfezi', text='Yeşilova Körfezi'),\n",
       " LinkTextPair(link='https://www.coastguidetr.com/tr/korfez/1009/yesilova-korfezi-kadirga-burnu-arasi', text='Yeşilova Körfezi - Kadırga Burnu Arası'),\n",
       " LinkTextPair(link='https://www.coastguidetr.com/tr/korfez/1010/marmaris-bolgesi', text='Marmaris Bölgesi'),\n",
       " LinkTextPair(link='https://www.coastguidetr.com/tr/korfez/1011/marmaris-kurdoglu-burnu-arasi', text='Marmaris - Kurdoğlu Burnu Arası'),\n",
       " LinkTextPair(link='https://www.coastguidetr.com/tr/korfez/1012/gocek-korfezi', text='Göcek Körfezi'),\n",
       " LinkTextPair(link='https://www.coastguidetr.com/tr/korfez/1013/fethiye-korfezi-olu-deniz', text='Fethiye Körfezi - Ölü Deniz'),\n",
       " LinkTextPair(link='https://www.coastguidetr.com/tr/koy/101302/ciglik-koyu', text='Çığlik Koyu'),\n",
       " LinkTextPair(link='https://www.coastguidetr.com/tr/koy/101303/kucuk-kargi-koyu', text='Küçük Kargı Koyu'),\n",
       " LinkTextPair(link='https://www.coastguidetr.com/tr/koy/101306/fethiye', text='Fethiye'),\n",
       " LinkTextPair(link='https://www.coastguidetr.com/tr/koy/101307/turunc-pinari-koyu', text='Turunç Pınarı Koyu'),\n",
       " LinkTextPair(link='https://www.coastguidetr.com/tr/koy/101308/karacaoren-koyu', text='Karacaören Koyu'),\n",
       " LinkTextPair(link='https://www.coastguidetr.com/tr/koy/101309/darbogaz-koyu', text='Darboğaz Koyu'),\n",
       " LinkTextPair(link='https://www.coastguidetr.com/tr/koy/101310/gemiler-koyu', text='Gemiler Koyu'),\n",
       " LinkTextPair(link='https://www.coastguidetr.com/tr/koy/101312/bektas-kalevezi-koyu', text='Bektaş(Kalevezi) Koyu'),\n",
       " LinkTextPair(link='https://www.coastguidetr.com/tr/koy/101313/soguksu-limani', text='Soğuksu Limanı'),\n",
       " LinkTextPair(link='https://www.coastguidetr.com/tr/koy/101314/mersin-limani', text='Mersin Limanı'),\n",
       " LinkTextPair(link='https://www.coastguidetr.com/tr/koy/101315/olu-deniz', text='Ölü Deniz'),\n",
       " LinkTextPair(link='https://www.coastguidetr.com/tr/marina/1013060113/ece-saray-marina', text='Ece Saray Marina'),\n",
       " LinkTextPair(link='https://www.coastguidetr.com/tr/fotograflar/101311/gemiler-adasi', text='TÜM GÖRSELLER'),\n",
       " LinkTextPair(link='https://www.coastguidetr.com/tr/video/koy/101311/gemiler-adasi', text=None),\n",
       " LinkTextPair(link='https://www.coastguidetr.com/tr/fotograflar/101311/gemiler-adasi/theather/95c949d897db513faf6f263effb91e3a_m', text='Gemiler Adası'),\n",
       " LinkTextPair(link='https://www.coastguidetr.com/tr/fotograflar/101311/gemiler-adasi/theather/04197e9dc5b0ba2d0f5f27ade76768ba_m', text='Gemiler Adası'),\n",
       " LinkTextPair(link='https://www.coastguidetr.com/tr/fotograflar/101311/gemiler-adasi/theather/50eee8d7ca2ca41cff4375dad8622932_m', text='Gemiler Adası'),\n",
       " LinkTextPair(link='https://www.coastguidetr.com/tr/fotograflar/101311/gemiler-adasi', text='TÜM GÖRSELLER'),\n",
       " LinkTextPair(link='https://www.facebook.com/coastguidetr', text=None),\n",
       " LinkTextPair(link='https://www.twitter.com/coastguidetr', text=None),\n",
       " LinkTextPair(link='https://www.instagram.com/coastguidetr', text=None),\n",
       " LinkTextPair(link='https://www.youtube.com/@coastguidetr', text=None),\n",
       " LinkTextPair(link='https://www.coastguidetr.com/en/bay/101311/gemiler-island', text='EN')]"
      ]
     },
     "execution_count": 6,
     "metadata": {},
     "output_type": "execute_result"
    }
   ],
   "execution_count": 6
  },
  {
   "metadata": {},
   "cell_type": "code",
   "outputs": [],
   "execution_count": null,
   "source": "",
   "id": "97886a4ed4a2342b"
  }
 ],
 "metadata": {
  "kernelspec": {
   "display_name": "Python 3",
   "language": "python",
   "name": "python3"
  },
  "language_info": {
   "codemirror_mode": {
    "name": "ipython",
    "version": 2
   },
   "file_extension": ".py",
   "mimetype": "text/x-python",
   "name": "python",
   "nbconvert_exporter": "python",
   "pygments_lexer": "ipython2",
   "version": "2.7.6"
  }
 },
 "nbformat": 4,
 "nbformat_minor": 5
}
